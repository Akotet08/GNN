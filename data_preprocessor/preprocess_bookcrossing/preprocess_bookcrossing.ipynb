{
 "cells": [
  {
   "cell_type": "code",
   "id": "initial_id",
   "metadata": {
    "collapsed": true
   },
   "source": [
    "import pandas as pd\n",
    "import json\n",
    "from sklearn.preprocessing import LabelEncoder\n",
    "from sklearn.model_selection import train_test_split"
   ],
   "outputs": [],
   "execution_count": null
  },
  {
   "metadata": {},
   "cell_type": "code",
   "source": [
    "with open('../dataset_path.json', 'r') as f:\n",
    "    paths = json.load(f)"
   ],
   "id": "b540365c66a9b838",
   "outputs": [],
   "execution_count": null
  },
  {
   "metadata": {},
   "cell_type": "code",
   "source": [
    "raw_data_path = paths['book_crossing']['raw']\n",
    "processed_data_path = paths['book_crossing']['processed']"
   ],
   "id": "e1dd61037a6e2f33",
   "outputs": [],
   "execution_count": null
  },
  {
   "metadata": {},
   "cell_type": "code",
   "source": [
    "item_feature_df = pd.read_csv(f'{raw_data_path}/BX_Books.csv', delimiter=';', encoding='ISO-8859-1')\n",
    "item_feature_df = item_feature_df.drop(['Image-URL-M', 'Image-URL-S', 'Image-URL-L'], axis=1)\n",
    "\n",
    "interaction = pd.read_csv(f'{raw_data_path}/BX-Book-Ratings.csv', delimiter=';', encoding='ISO-8859-1')\n",
    "user_embedder = LabelEncoder()\n",
    "interaction['user_id'] = user_embedder.fit_transform(interaction['User-ID'])\n",
    "\n",
    "interaction = interaction.merge(item_feature_df, on='ISBN', how='left')\n",
    "\n",
    "item_embedder = LabelEncoder()\n",
    "interaction['item_id'] = item_embedder.fit_transform(interaction['ISBN'])\n",
    "interaction.drop(['ISBN', 'User-ID'], axis=1, inplace=True)\n",
    "\n",
    "mapp = {'user_id': 'user_id', \n",
    "        'item_id': 'item_id', \n",
    "        'Book-Title': 'title', \n",
    "        'Book-Author': 'author', \n",
    "        'Year-Of-Publication': 'year', \n",
    "        'Publisher': 'publisher', \n",
    "        'Book-Rating': 'rating'}\n",
    "\n",
    "interaction = interaction.rename(mapp, axis=1)\n",
    "interaction = interaction[['user_id', 'item_id', 'rating', 'title', 'author', 'year', 'publisher',]]\n",
    "\n",
    "interaction['rating'] = interaction['rating'].astype(int)\n",
    "interaction['year'].fillna(interaction['year'].median(), inplace=True)\n",
    "interaction['year'] = interaction['year'].astype(int)"
   ],
   "id": "fbf68927b6874b49",
   "outputs": [],
   "execution_count": null
  },
  {
   "metadata": {},
   "cell_type": "code",
   "source": "print(interaction['user_id'].values_count())",
   "id": "288a92258325ec8f",
   "outputs": [],
   "execution_count": null
  },
  {
   "metadata": {},
   "cell_type": "code",
   "source": [
    "# encode item_features\n",
    "str_features = ['title', 'author','publisher']\n",
    "for col in str_features:\n",
    "    encoder = LabelEncoder()\n",
    "    interaction[col] = encoder.fit_transform(interaction[col])\n",
    "\n",
    "interact_train, interact_test = train_test_split(interaction, test_size=0.2, random_state=42)\n",
    "# interact_val, interact_test = train_test_split(interact_test, test_size=0.5, random_state=42)"
   ],
   "id": "1205d461ac0eccd6",
   "outputs": [],
   "execution_count": null
  },
  {
   "metadata": {},
   "cell_type": "code",
   "source": [
    "interact_train.to_csv(f'{processed_data_path}/book_crossing_train.csv', index=False)\n",
    "interact_test.to_csv(f'{processed_data_path}/book_crossing_test.csv', index=False)"
   ],
   "id": "722fcc7ac904be68",
   "outputs": [],
   "execution_count": null
  },
  {
   "metadata": {
    "jupyter": {
     "is_executing": true
    }
   },
   "cell_type": "code",
   "source": "print(interaction['user_id'].values_count())",
   "id": "8e722ae574663d88",
   "outputs": [],
   "execution_count": null
  },
  {
   "metadata": {},
   "cell_type": "code",
   "outputs": [],
   "execution_count": null,
   "source": "",
   "id": "991ba89bda0a6c39"
  }
 ],
 "metadata": {
  "kernelspec": {
   "display_name": "Python 3",
   "language": "python",
   "name": "python3"
  },
  "language_info": {
   "codemirror_mode": {
    "name": "ipython",
    "version": 2
   },
   "file_extension": ".py",
   "mimetype": "text/x-python",
   "name": "python",
   "nbconvert_exporter": "python",
   "pygments_lexer": "ipython2",
   "version": "2.7.6"
  }
 },
 "nbformat": 4,
 "nbformat_minor": 5
}
