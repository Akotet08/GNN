{
 "cells": [
  {
   "cell_type": "code",
   "id": "initial_id",
   "metadata": {
    "collapsed": true,
    "ExecuteTime": {
     "end_time": "2024-08-12T02:05:51.368943Z",
     "start_time": "2024-08-12T02:05:51.365339Z"
    }
   },
   "source": [
    "import numpy\n",
    "import pandas as pd\n",
    "import json\n",
    "import os"
   ],
   "outputs": [],
   "execution_count": 47
  },
  {
   "metadata": {
    "ExecuteTime": {
     "end_time": "2024-08-12T02:05:52.085200Z",
     "start_time": "2024-08-12T02:05:52.081051Z"
    }
   },
   "cell_type": "code",
   "source": [
    "with open('../dataset_path.json') as f:\n",
    "    paths = json.load(f)\n",
    "\n",
    "raw_path = paths['gowalla']['raw']\n",
    "processed_path = paths['gowalla']['processed']"
   ],
   "id": "1d0ab8be745f6b88",
   "outputs": [],
   "execution_count": 48
  },
  {
   "metadata": {
    "ExecuteTime": {
     "end_time": "2024-08-12T02:05:56.003821Z",
     "start_time": "2024-08-12T02:05:52.864628Z"
    }
   },
   "cell_type": "code",
   "source": [
    "columns = ['user_id', 'time', 'latitude', 'longitude', 'item_id']\n",
    "data = pd.read_csv(f'{raw_path}/loc-gowalla_totalCheckins.txt', sep=\"\\t\", header=None, names=columns)"
   ],
   "id": "739618421d2dc92f",
   "outputs": [],
   "execution_count": 49
  },
  {
   "metadata": {
    "ExecuteTime": {
     "end_time": "2024-08-12T02:05:56.099507Z",
     "start_time": "2024-08-12T02:05:56.005653Z"
    }
   },
   "cell_type": "code",
   "source": [
    "num_users = data['user_id'].nunique()\n",
    "num_items = data['item_id'].nunique()\n",
    "total_edges_possible = num_users * num_items\n",
    "edges = len(data)\n",
    "\n",
    "print(f'Number of Users: {num_users}\\nNumber of Items: {num_items}\\nNumber of edges: {edges}')"
   ],
   "id": "441d5f89ffb843c0",
   "outputs": [
    {
     "name": "stdout",
     "output_type": "stream",
     "text": [
      "Number of Users: 107092\n",
      "Number of Items: 1280969\n",
      "Number of edges: 6442892\n"
     ]
    }
   ],
   "execution_count": 50
  },
  {
   "metadata": {
    "ExecuteTime": {
     "end_time": "2024-08-12T04:08:01.417806Z",
     "start_time": "2024-08-12T04:08:01.412476Z"
    }
   },
   "cell_type": "code",
   "source": "edges / total_edges_possible",
   "id": "b3bf0dc35fa2995d",
   "outputs": [
    {
     "data": {
      "text/plain": [
       "4.696617612528927e-05"
      ]
     },
     "execution_count": 52,
     "metadata": {},
     "output_type": "execute_result"
    }
   ],
   "execution_count": 52
  },
  {
   "metadata": {
    "ExecuteTime": {
     "end_time": "2024-08-12T01:30:08.077739Z",
     "start_time": "2024-08-12T01:30:07.757182Z"
    }
   },
   "cell_type": "code",
   "source": "data['item_id'].value_counts().sort_values()",
   "id": "15904975c348b742",
   "outputs": [
    {
     "data": {
      "text/plain": [
       "item_id\n",
       "2140763       1\n",
       "3766919       1\n",
       "3706766       1\n",
       "70577         1\n",
       "3549373       1\n",
       "           ... \n",
       "58725      3476\n",
       "10259      4083\n",
       "9410       4713\n",
       "19542      5662\n",
       "55033      5811\n",
       "Name: count, Length: 1280969, dtype: int64"
      ]
     },
     "execution_count": 46,
     "metadata": {},
     "output_type": "execute_result"
    }
   ],
   "execution_count": 46
  },
  {
   "metadata": {},
   "cell_type": "code",
   "outputs": [],
   "execution_count": null,
   "source": "",
   "id": "5930d54d18579e55"
  }
 ],
 "metadata": {
  "kernelspec": {
   "display_name": "Python 3",
   "language": "python",
   "name": "python3"
  },
  "language_info": {
   "codemirror_mode": {
    "name": "ipython",
    "version": 2
   },
   "file_extension": ".py",
   "mimetype": "text/x-python",
   "name": "python",
   "nbconvert_exporter": "python",
   "pygments_lexer": "ipython2",
   "version": "2.7.6"
  }
 },
 "nbformat": 4,
 "nbformat_minor": 5
}
